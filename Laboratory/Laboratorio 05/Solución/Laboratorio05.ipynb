{
 "cells": [
  {
   "cell_type": "markdown",
   "id": "46c6884f-ff48-49dc-a455-e0a72278a106",
   "metadata": {},
   "source": [
    "## Laboratorio 05 - Estadística descriptiva y Redes de Bayes"
   ]
  },
  {
   "cell_type": "markdown",
   "id": "71725657-1a59-4646-9d2f-af07e8a8f621",
   "metadata": {},
   "source": [
    "### 3.1 Estadística descriptiva"
   ]
  },
  {
   "cell_type": "code",
   "execution_count": 3,
   "id": "58be360e-3d80-4fef-ad31-351a4ea53d91",
   "metadata": {},
   "outputs": [],
   "source": [
    "import numpy as np\n",
    "import pandas as pd"
   ]
  },
  {
   "cell_type": "code",
   "execution_count": 4,
   "id": "46befa0f-63bd-4bc1-9c5e-f5acf7471eb6",
   "metadata": {},
   "outputs": [],
   "source": [
    "np.random.seed(2131982)"
   ]
  },
  {
   "cell_type": "code",
   "execution_count": 6,
   "id": "dbf9d3fe-ded0-4edf-a0e6-cb8dc1b9f633",
   "metadata": {},
   "outputs": [
    {
     "name": "stdout",
     "output_type": "stream",
     "text": [
      "[[ 30  91  97  86  64  79  11  19  91  91]\n",
      " [100   2   8  30  85   8  29  31  68  89]\n",
      " [ 30   2  68  53  65  86  17  95  17  51]\n",
      " [ 96  27  68  13  13  27  86  35  98  67]\n",
      " [ 81  82  23  72  12   8  63  61  71  33]\n",
      " [ 57  55 100  58  79   3  70   1  31  36]\n",
      " [ 85  37   1  74  85  65  29  34   9   3]\n",
      " [ 44   8  20  92  65  72  32  42  57  64]\n",
      " [ 72  80  13  96  26  16  14  76  53  32]\n",
      " [ 98  17  42  98 100  38   8  55 100  72]]\n"
     ]
    }
   ],
   "source": [
    "matriz = np.random.randint(0, 101, size=(10, 10))\n",
    "print(matriz)"
   ]
  },
  {
   "cell_type": "markdown",
   "id": "a6952902-6b4e-483c-850c-3b1cfe18277b",
   "metadata": {},
   "source": [
    "#### Se puso 0 y 101 para que se incluyan tanto el 1 como el 100"
   ]
  },
  {
   "cell_type": "markdown",
   "id": "7f69d424-eb47-48de-93ee-f48c67592146",
   "metadata": {},
   "source": [
    "### 3.1.1 Estadística descriptiva - Media aritmética"
   ]
  },
  {
   "cell_type": "code",
   "execution_count": 8,
   "id": "93ec0fab-15c4-4cff-b0c0-4b1f36564893",
   "metadata": {},
   "outputs": [
    {
     "name": "stdout",
     "output_type": "stream",
     "text": [
      "51.43\n"
     ]
    }
   ],
   "source": [
    "media_aritmetica = np.mean(matriz)\n",
    "print(media_aritmetica)"
   ]
  },
  {
   "cell_type": "markdown",
   "id": "9eb716f6-4b55-4825-8a18-6582ee8419aa",
   "metadata": {},
   "source": [
    "### 3.1.2 Estadística descriptiva - Mediana"
   ]
  },
  {
   "cell_type": "code",
   "execution_count": 9,
   "id": "0d1e37f9-45ff-48ab-87d3-d781a2ce9c08",
   "metadata": {},
   "outputs": [
    {
     "name": "stdout",
     "output_type": "stream",
     "text": [
      "55.0\n"
     ]
    }
   ],
   "source": [
    "mediana = np.median(matriz)\n",
    "print(mediana)"
   ]
  },
  {
   "cell_type": "markdown",
   "id": "5406ce02-f788-4cd9-9258-cf219eab10bc",
   "metadata": {},
   "source": [
    "### 3.1.3 Estadística descriptiva - Desviación típica"
   ]
  },
  {
   "cell_type": "code",
   "execution_count": 17,
   "id": "e68e0935-b2a3-46f0-9589-f41149170b1e",
   "metadata": {},
   "outputs": [
    {
     "name": "stdout",
     "output_type": "stream",
     "text": [
      "31.42427564797636\n"
     ]
    }
   ],
   "source": [
    "desviacion_tipica = np.std(matriz)\n",
    "print(desviacion_tipica)"
   ]
  },
  {
   "cell_type": "markdown",
   "id": "2f6c2de2-9a77-455c-b008-24498674284b",
   "metadata": {},
   "source": [
    "### 3.1.4 Estadística descriptiva - Varianza"
   ]
  },
  {
   "cell_type": "code",
   "execution_count": 18,
   "id": "5dfb09b6-49ab-4e16-beec-5c153cb62cba",
   "metadata": {},
   "outputs": [
    {
     "name": "stdout",
     "output_type": "stream",
     "text": [
      "987.4851\n"
     ]
    }
   ],
   "source": [
    "varianza = np.var(matriz)\n",
    "print(varianza)"
   ]
  },
  {
   "cell_type": "markdown",
   "id": "5175bb9b-5858-4065-86f2-0ff01b83d5c0",
   "metadata": {},
   "source": [
    "### 3.1.5 Estadística descriptiva - Media aritmética de cada fila"
   ]
  },
  {
   "cell_type": "code",
   "execution_count": 20,
   "id": "f89e89b2-40c0-478b-9c37-85008e95a154",
   "metadata": {},
   "outputs": [
    {
     "name": "stdout",
     "output_type": "stream",
     "text": [
      "[65.9 45.  48.4 53.  50.6 49.  42.2 49.6 47.8 62.8]\n"
     ]
    }
   ],
   "source": [
    "media_aritmetica_filas = np.mean(matriz, axis=1)\n",
    "print(media_aritmetica_filas)"
   ]
  },
  {
   "cell_type": "markdown",
   "id": "d1257306-2e16-4333-a126-3df4e6974cf0",
   "metadata": {},
   "source": [
    "### 3.1.6 Estadística descriptiva - Media aritmética de cada columna"
   ]
  },
  {
   "cell_type": "code",
   "execution_count": 21,
   "id": "66300600-b4c7-48a1-93ea-93beb0b57e24",
   "metadata": {},
   "outputs": [
    {
     "name": "stdout",
     "output_type": "stream",
     "text": [
      "[69.3 40.1 44.  67.2 59.4 40.2 35.9 44.9 59.5 53.8]\n"
     ]
    }
   ],
   "source": [
    "media_aritmetica_columnas = np.mean(matriz, axis=0)\n",
    "print(media_aritmetica_columnas)"
   ]
  },
  {
   "cell_type": "markdown",
   "id": "f0daf4bc-2deb-4b5b-b4b5-b92501954cb8",
   "metadata": {},
   "source": [
    "### 3.1.7 Estadística descriptiva - Desviación típica de cada fila"
   ]
  },
  {
   "cell_type": "code",
   "execution_count": 22,
   "id": "97a38d13-15fb-44ce-9a20-e1f5e902764f",
   "metadata": {},
   "outputs": [
    {
     "name": "stdout",
     "output_type": "stream",
     "text": [
      "[31.526021   35.14825742 29.55740178 32.03123476 27.24408193 30.05994012\n",
      " 31.3043128  24.09232243 29.76172038 33.96998675]\n"
     ]
    }
   ],
   "source": [
    "desviacion_tipica_filas = np.std(matriz, axis=1)\n",
    "print(desviacion_tipica_filas)"
   ]
  },
  {
   "cell_type": "markdown",
   "id": "e670b1da-cd19-44e9-848b-c6bdf1c2f586",
   "metadata": {},
   "source": [
    "### 3.1.8 Estadística descriptiva - Desviación típica de cada columna"
   ]
  },
  {
   "cell_type": "code",
   "execution_count": 24,
   "id": "3fbb892d-bc6b-4fd3-b94b-dd69ca8cf27c",
   "metadata": {},
   "outputs": [
    {
     "name": "stdout",
     "output_type": "stream",
     "text": [
      "[25.98095456 32.87689158 34.96283741 27.24628415 29.90384591 30.74345459\n",
      " 25.98634257 26.18186395 30.88122407 26.54354912]\n"
     ]
    }
   ],
   "source": [
    "desviacion_tipica_columnas = np.std(matriz, axis=0)\n",
    "print(desviacion_tipica_columnas)"
   ]
  },
  {
   "cell_type": "markdown",
   "id": "56171ae7-978f-4b4c-9ca6-969cd8d70656",
   "metadata": {},
   "source": [
    "### 3.1.9 Estadística descriptiva - Varianza de cada fila"
   ]
  },
  {
   "cell_type": "code",
   "execution_count": 26,
   "id": "f8549566-fbbc-4b04-9e82-c6822157f77a",
   "metadata": {},
   "outputs": [
    {
     "name": "stdout",
     "output_type": "stream",
     "text": [
      "[ 993.89 1235.4   873.64 1026.    742.24  903.6   979.96  580.44  885.76\n",
      " 1153.96]\n"
     ]
    }
   ],
   "source": [
    "varianza_filas = np.var(matriz, axis=1)\n",
    "print(varianza_filas)"
   ]
  },
  {
   "cell_type": "markdown",
   "id": "5fc97657-1987-4298-ad33-e60d51967aec",
   "metadata": {},
   "source": [
    "### 3.1.10 Estadística descriptiva - Varianza de cada columna"
   ]
  },
  {
   "cell_type": "code",
   "execution_count": 27,
   "id": "b8640784-ba7b-41ca-b3f4-39312357805b",
   "metadata": {},
   "outputs": [
    {
     "name": "stdout",
     "output_type": "stream",
     "text": [
      "[ 675.01 1080.89 1222.4   742.36  894.24  945.16  675.29  685.49  953.65\n",
      "  704.56]\n"
     ]
    }
   ],
   "source": [
    "varianza_columnas = np.var(matriz, axis=0)\n",
    "print(varianza_columnas)"
   ]
  },
  {
   "cell_type": "markdown",
   "id": "6dbae0a2-1926-4d54-aed0-7f4c8dcc9272",
   "metadata": {},
   "source": [
    "### 3.1.11 Estadística descriptiva - Dataframe, función describe y respuesta a pregunta"
   ]
  },
  {
   "cell_type": "code",
   "execution_count": 29,
   "id": "6eafb8bc-c796-422d-99ec-a07a2c1780d0",
   "metadata": {},
   "outputs": [],
   "source": [
    "df = pd.DataFrame(matriz)"
   ]
  },
  {
   "cell_type": "code",
   "execution_count": 30,
   "id": "6b54f18f-9535-4645-82c0-a676a0a3d5f7",
   "metadata": {},
   "outputs": [
    {
     "data": {
      "text/html": [
       "<div>\n",
       "<style scoped>\n",
       "    .dataframe tbody tr th:only-of-type {\n",
       "        vertical-align: middle;\n",
       "    }\n",
       "\n",
       "    .dataframe tbody tr th {\n",
       "        vertical-align: top;\n",
       "    }\n",
       "\n",
       "    .dataframe thead th {\n",
       "        text-align: right;\n",
       "    }\n",
       "</style>\n",
       "<table border=\"1\" class=\"dataframe\">\n",
       "  <thead>\n",
       "    <tr style=\"text-align: right;\">\n",
       "      <th></th>\n",
       "      <th>0</th>\n",
       "      <th>1</th>\n",
       "      <th>2</th>\n",
       "      <th>3</th>\n",
       "      <th>4</th>\n",
       "      <th>5</th>\n",
       "      <th>6</th>\n",
       "      <th>7</th>\n",
       "      <th>8</th>\n",
       "      <th>9</th>\n",
       "    </tr>\n",
       "  </thead>\n",
       "  <tbody>\n",
       "    <tr>\n",
       "      <th>0</th>\n",
       "      <td>30</td>\n",
       "      <td>100</td>\n",
       "      <td>30</td>\n",
       "      <td>96</td>\n",
       "      <td>81</td>\n",
       "      <td>57</td>\n",
       "      <td>85</td>\n",
       "      <td>44</td>\n",
       "      <td>72</td>\n",
       "      <td>98</td>\n",
       "    </tr>\n",
       "    <tr>\n",
       "      <th>1</th>\n",
       "      <td>91</td>\n",
       "      <td>2</td>\n",
       "      <td>2</td>\n",
       "      <td>27</td>\n",
       "      <td>82</td>\n",
       "      <td>55</td>\n",
       "      <td>37</td>\n",
       "      <td>8</td>\n",
       "      <td>80</td>\n",
       "      <td>17</td>\n",
       "    </tr>\n",
       "    <tr>\n",
       "      <th>2</th>\n",
       "      <td>97</td>\n",
       "      <td>8</td>\n",
       "      <td>68</td>\n",
       "      <td>68</td>\n",
       "      <td>23</td>\n",
       "      <td>100</td>\n",
       "      <td>1</td>\n",
       "      <td>20</td>\n",
       "      <td>13</td>\n",
       "      <td>42</td>\n",
       "    </tr>\n",
       "    <tr>\n",
       "      <th>3</th>\n",
       "      <td>86</td>\n",
       "      <td>30</td>\n",
       "      <td>53</td>\n",
       "      <td>13</td>\n",
       "      <td>72</td>\n",
       "      <td>58</td>\n",
       "      <td>74</td>\n",
       "      <td>92</td>\n",
       "      <td>96</td>\n",
       "      <td>98</td>\n",
       "    </tr>\n",
       "    <tr>\n",
       "      <th>4</th>\n",
       "      <td>64</td>\n",
       "      <td>85</td>\n",
       "      <td>65</td>\n",
       "      <td>13</td>\n",
       "      <td>12</td>\n",
       "      <td>79</td>\n",
       "      <td>85</td>\n",
       "      <td>65</td>\n",
       "      <td>26</td>\n",
       "      <td>100</td>\n",
       "    </tr>\n",
       "    <tr>\n",
       "      <th>5</th>\n",
       "      <td>79</td>\n",
       "      <td>8</td>\n",
       "      <td>86</td>\n",
       "      <td>27</td>\n",
       "      <td>8</td>\n",
       "      <td>3</td>\n",
       "      <td>65</td>\n",
       "      <td>72</td>\n",
       "      <td>16</td>\n",
       "      <td>38</td>\n",
       "    </tr>\n",
       "    <tr>\n",
       "      <th>6</th>\n",
       "      <td>11</td>\n",
       "      <td>29</td>\n",
       "      <td>17</td>\n",
       "      <td>86</td>\n",
       "      <td>63</td>\n",
       "      <td>70</td>\n",
       "      <td>29</td>\n",
       "      <td>32</td>\n",
       "      <td>14</td>\n",
       "      <td>8</td>\n",
       "    </tr>\n",
       "    <tr>\n",
       "      <th>7</th>\n",
       "      <td>19</td>\n",
       "      <td>31</td>\n",
       "      <td>95</td>\n",
       "      <td>35</td>\n",
       "      <td>61</td>\n",
       "      <td>1</td>\n",
       "      <td>34</td>\n",
       "      <td>42</td>\n",
       "      <td>76</td>\n",
       "      <td>55</td>\n",
       "    </tr>\n",
       "    <tr>\n",
       "      <th>8</th>\n",
       "      <td>91</td>\n",
       "      <td>68</td>\n",
       "      <td>17</td>\n",
       "      <td>98</td>\n",
       "      <td>71</td>\n",
       "      <td>31</td>\n",
       "      <td>9</td>\n",
       "      <td>57</td>\n",
       "      <td>53</td>\n",
       "      <td>100</td>\n",
       "    </tr>\n",
       "    <tr>\n",
       "      <th>9</th>\n",
       "      <td>91</td>\n",
       "      <td>89</td>\n",
       "      <td>51</td>\n",
       "      <td>67</td>\n",
       "      <td>33</td>\n",
       "      <td>36</td>\n",
       "      <td>3</td>\n",
       "      <td>64</td>\n",
       "      <td>32</td>\n",
       "      <td>72</td>\n",
       "    </tr>\n",
       "  </tbody>\n",
       "</table>\n",
       "</div>"
      ],
      "text/plain": [
       "    0    1   2   3   4    5   6   7   8    9\n",
       "0  30  100  30  96  81   57  85  44  72   98\n",
       "1  91    2   2  27  82   55  37   8  80   17\n",
       "2  97    8  68  68  23  100   1  20  13   42\n",
       "3  86   30  53  13  72   58  74  92  96   98\n",
       "4  64   85  65  13  12   79  85  65  26  100\n",
       "5  79    8  86  27   8    3  65  72  16   38\n",
       "6  11   29  17  86  63   70  29  32  14    8\n",
       "7  19   31  95  35  61    1  34  42  76   55\n",
       "8  91   68  17  98  71   31   9  57  53  100\n",
       "9  91   89  51  67  33   36   3  64  32   72"
      ]
     },
     "execution_count": 30,
     "metadata": {},
     "output_type": "execute_result"
    }
   ],
   "source": [
    "#### Transponer el DataFrame para que las filas representen a las columnas y y las columnas a las filas\n",
    "df_T = df.T\n",
    "df.T"
   ]
  },
  {
   "cell_type": "code",
   "execution_count": 31,
   "id": "fa035260-b89f-451c-8c7c-7dad1d0d7bf5",
   "metadata": {},
   "outputs": [
    {
     "name": "stdout",
     "output_type": "stream",
     "text": [
      "51.43\n"
     ]
    }
   ],
   "source": [
    "mean = np.nanmean(df)\n",
    "print(mean)"
   ]
  },
  {
   "cell_type": "code",
   "execution_count": 32,
   "id": "7d12226a-10eb-465b-99fc-5bf830738355",
   "metadata": {},
   "outputs": [
    {
     "name": "stdout",
     "output_type": "stream",
     "text": [
      "55.0\n"
     ]
    }
   ],
   "source": [
    "mediam = np.nanmedian(df)\n",
    "print(mediam)"
   ]
  },
  {
   "cell_type": "code",
   "execution_count": 33,
   "id": "2c9fc52a-e765-426f-889e-666163c432eb",
   "metadata": {},
   "outputs": [
    {
     "name": "stdout",
     "output_type": "stream",
     "text": [
      "31.42427564797636\n"
     ]
    }
   ],
   "source": [
    "std = np.nanstd(df)\n",
    "print(std)"
   ]
  },
  {
   "cell_type": "code",
   "execution_count": 34,
   "id": "bc0fecae-478f-4c0b-bfa3-33abcf8afad0",
   "metadata": {},
   "outputs": [
    {
     "name": "stdout",
     "output_type": "stream",
     "text": [
      "987.4851\n"
     ]
    }
   ],
   "source": [
    "var = np.nanvar(df)\n",
    "print(var)"
   ]
  },
  {
   "cell_type": "code",
   "execution_count": 35,
   "id": "80b7c1e7-b09a-44b0-9221-40cd30d37aa7",
   "metadata": {},
   "outputs": [
    {
     "name": "stdout",
     "output_type": "stream",
     "text": [
      "                0          1           2          3           4          5  \\\n",
      "count   10.000000  10.000000   10.000000  10.000000   10.000000  10.000000   \n",
      "mean    69.300000  40.100000   44.000000  67.200000   59.400000  40.200000   \n",
      "std     27.386331  34.655287   36.854067  28.720105   31.521421  32.406447   \n",
      "min     30.000000   2.000000    1.000000  13.000000   12.000000   3.000000   \n",
      "25%     47.250000  10.250000   14.750000  54.250000   35.500000  10.000000   \n",
      "50%     76.500000  32.000000   32.500000  73.000000   65.000000  32.500000   \n",
      "75%     93.250000  73.750000   68.000000  90.500000   83.500000  70.250000   \n",
      "max    100.000000  91.000000  100.000000  98.000000  100.000000  86.000000   \n",
      "\n",
      "              6          7           8          9  \n",
      "count  10.00000  10.000000   10.000000  10.000000  \n",
      "mean   35.90000  44.900000   59.500000  53.800000  \n",
      "std    27.39201  27.598108   32.551668  27.979357  \n",
      "min     8.00000   1.000000    9.000000   3.000000  \n",
      "25%    14.75000  31.750000   36.500000  33.750000  \n",
      "50%    29.00000  38.500000   62.500000  57.500000  \n",
      "75%    55.25000  59.500000   86.000000  70.750000  \n",
      "max    86.00000  95.000000  100.000000  91.000000  \n"
     ]
    }
   ],
   "source": [
    "print(df.describe())"
   ]
  },
  {
   "cell_type": "code",
   "execution_count": 38,
   "id": "c4d25375-a990-43e7-b4a2-d07c84a13f1a",
   "metadata": {},
   "outputs": [
    {
     "name": "stdout",
     "output_type": "stream",
     "text": [
      "                0          1           2          3           4          5  \\\n",
      "count   10.000000  10.000000   10.000000  10.000000   10.000000  10.000000   \n",
      "mean    69.300000  40.100000   44.000000  67.200000   59.400000  40.200000   \n",
      "std     27.386331  34.655287   36.854067  28.720105   31.521421  32.406447   \n",
      "min     30.000000   2.000000    1.000000  13.000000   12.000000   3.000000   \n",
      "25%     47.250000  10.250000   14.750000  54.250000   35.500000  10.000000   \n",
      "50%     76.500000  32.000000   32.500000  73.000000   65.000000  32.500000   \n",
      "75%     93.250000  73.750000   68.000000  90.500000   83.500000  70.250000   \n",
      "max    100.000000  91.000000  100.000000  98.000000  100.000000  86.000000   \n",
      "\n",
      "              6          7           8          9  \n",
      "count  10.00000  10.000000   10.000000  10.000000  \n",
      "mean   35.90000  44.900000   59.500000  53.800000  \n",
      "std    27.39201  27.598108   32.551668  27.979357  \n",
      "min     8.00000   1.000000    9.000000   3.000000  \n",
      "25%    14.75000  31.750000   36.500000  33.750000  \n",
      "50%    29.00000  38.500000   62.500000  57.500000  \n",
      "75%    55.25000  59.500000   86.000000  70.750000  \n",
      "max    86.00000  95.000000  100.000000  91.000000  \n"
     ]
    }
   ],
   "source": [
    "#### Calcular las estadísticas descriptivas para las filas\n",
    "resumen_filas = df.describe()\n",
    "print(resumen_filas)"
   ]
  },
  {
   "cell_type": "code",
   "execution_count": 39,
   "id": "fe16c8e7-ad23-4629-87bb-2282a6221dc4",
   "metadata": {},
   "outputs": [
    {
     "name": "stdout",
     "output_type": "stream",
     "text": [
      "               0           1          2          3          4           5  \\\n",
      "count  10.000000   10.000000  10.000000  10.000000  10.000000   10.000000   \n",
      "mean   65.900000   45.000000  48.400000  53.000000  50.600000   49.000000   \n",
      "std    33.231344   37.049516  31.156237  33.763886  28.717784   31.685959   \n",
      "min    11.000000    2.000000   2.000000  13.000000   8.000000    1.000000   \n",
      "25%    38.500000   13.250000  20.250000  27.000000  25.500000   32.250000   \n",
      "50%    82.500000   30.500000  52.000000  51.000000  62.000000   56.000000   \n",
      "75%    91.000000   80.750000  67.250000  81.500000  71.750000   67.000000   \n",
      "max    97.000000  100.000000  95.000000  98.000000  82.000000  100.000000   \n",
      "\n",
      "               6          7          8          9  \n",
      "count  10.000000  10.000000  10.000000   10.00000  \n",
      "mean   42.200000  49.600000  47.800000   62.80000  \n",
      "std    32.997643  25.395538  31.371608   35.80751  \n",
      "min     1.000000   8.000000  13.000000    8.00000  \n",
      "25%    14.000000  34.500000  18.500000   39.00000  \n",
      "50%    35.500000  50.500000  42.500000   63.50000  \n",
      "75%    71.750000  64.750000  75.000000   98.00000  \n",
      "max    85.000000  92.000000  96.000000  100.00000  \n"
     ]
    }
   ],
   "source": [
    "#### Calcular las estadísticas descriptivas para las columnas\n",
    "resumen_columnas = df_T.describe()\n",
    "print(resumen_columnas)"
   ]
  },
  {
   "cell_type": "markdown",
   "id": "0bf6df2b-139c-44c7-9483-4f9c6e447fe0",
   "metadata": {},
   "source": [
    "#### R// Desde mi punto de vista los datos entre Numpy y Pandas SI son coherentes"
   ]
  },
  {
   "cell_type": "markdown",
   "id": "305bd485-fff6-4d5a-9e4b-77e30595313f",
   "metadata": {},
   "source": [
    "### 3.2 Redes de Bayes"
   ]
  },
  {
   "cell_type": "code",
   "execution_count": 1,
   "id": "3ab59c31-cdbf-4a30-9122-1f8c80295a61",
   "metadata": {},
   "outputs": [],
   "source": [
    "import pyAgrum as gum"
   ]
  },
  {
   "cell_type": "code",
   "execution_count": 2,
   "id": "ac49cb54-2aae-417a-b0a1-2f754f38a297",
   "metadata": {},
   "outputs": [
    {
     "name": "stdout",
     "output_type": "stream",
     "text": [
      "BN{nodes: 0, arcs: 0, domainSize: 1, dim: 0, mem: 0o}\n"
     ]
    }
   ],
   "source": [
    "bn=gum.BayesNet()\n",
    "print(bn)"
   ]
  },
  {
   "cell_type": "code",
   "execution_count": 3,
   "id": "69ce4b71-1bac-48fb-8938-081b058e59e4",
   "metadata": {},
   "outputs": [
    {
     "name": "stdout",
     "output_type": "stream",
     "text": [
      "0\n"
     ]
    }
   ],
   "source": [
    "b=bn.add(gum.LabelizedVariable('B','burglary ?', 2))\n",
    "print(b)"
   ]
  },
  {
   "cell_type": "code",
   "execution_count": 4,
   "id": "fd993afc-e4a3-443b-ae81-660d511003f7",
   "metadata": {},
   "outputs": [
    {
     "name": "stdout",
     "output_type": "stream",
     "text": [
      "BN{nodes: 1, arcs: 0, domainSize: 2, dim: 1, mem: 16o}\n"
     ]
    }
   ],
   "source": [
    "print(bn)"
   ]
  },
  {
   "cell_type": "code",
   "execution_count": 5,
   "id": "68f66832-8a93-4c40-8786-545e7d156989",
   "metadata": {},
   "outputs": [
    {
     "name": "stdout",
     "output_type": "stream",
     "text": [
      "1 2 3 4\n",
      "BN{nodes: 5, arcs: 0, domainSize: 32, dim: 5, mem: 80o}\n"
     ]
    }
   ],
   "source": [
    "a, e, j, m = [bn.add(name, 2) for name in \"AEJM\"]\n",
    "print(a,e,j,m)\n",
    "print(bn)"
   ]
  },
  {
   "cell_type": "markdown",
   "id": "4f5c790f-d3fb-43ae-95ad-891d8a6b307b",
   "metadata": {},
   "source": [
    "### Aquí agrego los arcos de la red bayesiana"
   ]
  },
  {
   "cell_type": "code",
   "execution_count": 7,
   "id": "9b92f451-3f00-46ae-8e0e-2575d3720a38",
   "metadata": {},
   "outputs": [],
   "source": [
    "bn.addArc(b,a)\n",
    "bn.addArc(e,a)\n",
    "bn.addArc(a,j)\n",
    "bn.addArc(a,m)"
   ]
  },
  {
   "cell_type": "code",
   "execution_count": 8,
   "id": "5405d77f-cefd-4fd0-853d-20e3ac951c18",
   "metadata": {},
   "outputs": [
    {
     "name": "stdout",
     "output_type": "stream",
     "text": [
      "BN{nodes: 5, arcs: 4, domainSize: 32, dim: 10, mem: 160o}\n"
     ]
    }
   ],
   "source": [
    "print(bn)"
   ]
  },
  {
   "cell_type": "code",
   "execution_count": 9,
   "id": "1e296534-81ed-471c-a134-6d0634ff3228",
   "metadata": {},
   "outputs": [
    {
     "data": {
      "text/html": [
       "<svg xmlns=\"http://www.w3.org/2000/svg\" xmlns:xlink=\"http://www.w3.org/1999/xlink\" width=\"134pt\" height=\"188pt\" viewBox=\"0.00 0.00 134.00 188.00\">\n",
       "<g id=\"graph0\" class=\"graph\" transform=\"scale(1 1) rotate(0) translate(4 184)\">\n",
       "<title>G</title>\n",
       "<!-- M -->\n",
       "<g id=\"node1\" class=\"node\">\n",
       "<title>M</title>\n",
       "<g id=\"a_node1\"><a xlink:title=\"(4) M\">\n",
       "<ellipse fill=\"#404040\" stroke=\"black\" cx=\"27\" cy=\"-18\" rx=\"27\" ry=\"18\"/>\n",
       "<text text-anchor=\"middle\" x=\"27\" y=\"-12.57\" font-family=\"Times New Roman,serif\" font-size=\"14.00\" fill=\"white\">M</text>\n",
       "</a>\n",
       "</g>\n",
       "</g>\n",
       "<!-- B -->\n",
       "<g id=\"node2\" class=\"node\">\n",
       "<title>B</title>\n",
       "<g id=\"a_node2\"><a xlink:title=\"(0) B\">\n",
       "<ellipse fill=\"#404040\" stroke=\"black\" cx=\"27\" cy=\"-162\" rx=\"27\" ry=\"18\"/>\n",
       "<text text-anchor=\"middle\" x=\"27\" y=\"-156.57\" font-family=\"Times New Roman,serif\" font-size=\"14.00\" fill=\"white\">B</text>\n",
       "</a>\n",
       "</g>\n",
       "</g>\n",
       "<!-- A -->\n",
       "<g id=\"node4\" class=\"node\">\n",
       "<title>A</title>\n",
       "<g id=\"a_node4\"><a xlink:title=\"(1) A\">\n",
       "<ellipse fill=\"#404040\" stroke=\"black\" cx=\"63\" cy=\"-90\" rx=\"27\" ry=\"18\"/>\n",
       "<text text-anchor=\"middle\" x=\"63\" y=\"-84.58\" font-family=\"Times New Roman,serif\" font-size=\"14.00\" fill=\"white\">A</text>\n",
       "</a>\n",
       "</g>\n",
       "</g>\n",
       "<!-- B&#45;&gt;A -->\n",
       "<g id=\"edge1\" class=\"edge\">\n",
       "<title>B-&gt;A</title>\n",
       "<g id=\"a_edge1\"><a xlink:title=\"0 → 1\">\n",
       "<path fill=\"none\" stroke=\"#4a4a4a\" d=\"M35.35,-144.76C39.58,-136.55 44.81,-126.37 49.58,-117.09\"/>\n",
       "<polygon fill=\"#4a4a4a\" stroke=\"#4a4a4a\" points=\"52.54,-118.99 54,-108.49 46.32,-115.79 52.54,-118.99\"/>\n",
       "</a>\n",
       "</g>\n",
       "</g>\n",
       "<!-- E -->\n",
       "<g id=\"node3\" class=\"node\">\n",
       "<title>E</title>\n",
       "<g id=\"a_node3\"><a xlink:title=\"(2) E\">\n",
       "<ellipse fill=\"#404040\" stroke=\"black\" cx=\"99\" cy=\"-162\" rx=\"27\" ry=\"18\"/>\n",
       "<text text-anchor=\"middle\" x=\"99\" y=\"-156.57\" font-family=\"Times New Roman,serif\" font-size=\"14.00\" fill=\"white\">E</text>\n",
       "</a>\n",
       "</g>\n",
       "</g>\n",
       "<!-- E&#45;&gt;A -->\n",
       "<g id=\"edge3\" class=\"edge\">\n",
       "<title>E-&gt;A</title>\n",
       "<g id=\"a_edge3\"><a xlink:title=\"2 → 1\">\n",
       "<path fill=\"none\" stroke=\"#4a4a4a\" d=\"M90.65,-144.76C86.42,-136.55 81.19,-126.37 76.42,-117.09\"/>\n",
       "<polygon fill=\"#4a4a4a\" stroke=\"#4a4a4a\" points=\"79.68,-115.79 72,-108.49 73.46,-118.99 79.68,-115.79\"/>\n",
       "</a>\n",
       "</g>\n",
       "</g>\n",
       "<!-- A&#45;&gt;M -->\n",
       "<g id=\"edge4\" class=\"edge\">\n",
       "<title>A-&gt;M</title>\n",
       "<g id=\"a_edge4\"><a xlink:title=\"1 → 4\">\n",
       "<path fill=\"none\" stroke=\"#4a4a4a\" d=\"M54.65,-72.76C50.42,-64.55 45.19,-54.37 40.42,-45.09\"/>\n",
       "<polygon fill=\"#4a4a4a\" stroke=\"#4a4a4a\" points=\"43.68,-43.79 36,-36.49 37.46,-46.99 43.68,-43.79\"/>\n",
       "</a>\n",
       "</g>\n",
       "</g>\n",
       "<!-- J -->\n",
       "<g id=\"node5\" class=\"node\">\n",
       "<title>J</title>\n",
       "<g id=\"a_node5\"><a xlink:title=\"(3) J\">\n",
       "<ellipse fill=\"#404040\" stroke=\"black\" cx=\"99\" cy=\"-18\" rx=\"27\" ry=\"18\"/>\n",
       "<text text-anchor=\"middle\" x=\"99\" y=\"-12.57\" font-family=\"Times New Roman,serif\" font-size=\"14.00\" fill=\"white\">J</text>\n",
       "</a>\n",
       "</g>\n",
       "</g>\n",
       "<!-- A&#45;&gt;J -->\n",
       "<g id=\"edge2\" class=\"edge\">\n",
       "<title>A-&gt;J</title>\n",
       "<g id=\"a_edge2\"><a xlink:title=\"1 → 3\">\n",
       "<path fill=\"none\" stroke=\"#4a4a4a\" d=\"M71.35,-72.76C75.58,-64.55 80.81,-54.37 85.58,-45.09\"/>\n",
       "<polygon fill=\"#4a4a4a\" stroke=\"#4a4a4a\" points=\"88.54,-46.99 90,-36.49 82.32,-43.79 88.54,-46.99\"/>\n",
       "</a>\n",
       "</g>\n",
       "</g>\n",
       "</g>\n",
       "</svg>"
      ],
      "text/plain": [
       "(pyAgrum.BayesNet<double>@000001EA63E139E0) BN{nodes: 5, arcs: 4, domainSize: 32, dim: 10, mem: 160o}"
      ]
     },
     "execution_count": 9,
     "metadata": {},
     "output_type": "execute_result"
    }
   ],
   "source": [
    "import pyAgrum.lib.notebook as gnb\n",
    "bn"
   ]
  },
  {
   "cell_type": "code",
   "execution_count": 10,
   "id": "bf395339-50ae-41eb-9558-f66b1c20648b",
   "metadata": {},
   "outputs": [
    {
     "data": {
      "text/html": [
       "<table style=\"border:1px solid black;\">\n",
       "<tr style='border:1px solid black;color:black;background-color:#808080'>\n",
       "      <th colspan='2'><center>B</center></th></tr>\n",
       "<tr><th style='border:1px solid black;border-bottom-style: double;color:black;background-color:#BBBBBB'>\n",
       "      <center>0</center></th><th style='border:1px solid black;border-bottom-style: double;color:black;background-color:#BBBBBB'>\n",
       "      <center>1</center></th></tr>\n",
       "<tr><td style='color:black;background-color:#7ffe64;text-align:right;'>0.9990</td><td style='color:black;background-color:#fe7f64;text-align:right;'>0.0010</td></tr>\n",
       "</table>"
      ],
      "text/plain": [
       "(pyAgrum.Potential<double>@000001EA64F68640) \n",
       "  B                |\n",
       "0        |1        |\n",
       "---------|---------|\n",
       " 0.9990  | 0.0010  |"
      ]
     },
     "execution_count": 10,
     "metadata": {},
     "output_type": "execute_result"
    }
   ],
   "source": [
    "bn.cpt(b).fillWith([0.999,0.001])\n",
    "bn.cpt(b)"
   ]
  },
  {
   "cell_type": "code",
   "execution_count": 11,
   "id": "f46b4beb-e69c-48a3-8d80-223a8c87e27b",
   "metadata": {},
   "outputs": [
    {
     "data": {
      "text/html": [
       "<table style=\"border:1px solid black;\">\n",
       "<tr style='border:1px solid black;color:black;background-color:#808080'>\n",
       "      <th colspan='2'><center>E</center></th></tr>\n",
       "<tr><th style='border:1px solid black;border-bottom-style: double;color:black;background-color:#BBBBBB'>\n",
       "      <center>0</center></th><th style='border:1px solid black;border-bottom-style: double;color:black;background-color:#BBBBBB'>\n",
       "      <center>1</center></th></tr>\n",
       "<tr><td style='color:black;background-color:#7ffe64;text-align:right;'>0.9980</td><td style='color:black;background-color:#fe7f64;text-align:right;'>0.0020</td></tr>\n",
       "</table>"
      ],
      "text/plain": [
       "(pyAgrum.Potential<double>@000001EA64F68780) \n",
       "  E                |\n",
       "0        |1        |\n",
       "---------|---------|\n",
       " 0.9980  | 0.0020  |"
      ]
     },
     "execution_count": 11,
     "metadata": {},
     "output_type": "execute_result"
    }
   ],
   "source": [
    "bn.cpt(e).fillWith([0.998,0.002])\n",
    "bn.cpt(e)"
   ]
  },
  {
   "cell_type": "code",
   "execution_count": 12,
   "id": "a8f75c3d-8ee5-4d06-89a7-35f42082c9d4",
   "metadata": {},
   "outputs": [
    {
     "data": {
      "text/html": [
       "<table style=\"border:1px solid black;\">\n",
       "<tr><th colspan='1'></th>\n",
       "      <th colspan='2' style='border:1px solid black;color:black;background-color:#808080;'><center>J</center>\n",
       "      </th></tr>\n",
       "<tr><th style='border:1px solid black;color:black;background-color:#808080'><center>A</center></th><th style='border:1px solid black;border-bottom-style: double;color:black;background-color:#BBBBBB'>\n",
       "      <center>0</center></th><th style='border:1px solid black;border-bottom-style: double;color:black;background-color:#BBBBBB'>\n",
       "      <center>1</center></th></tr>\n",
       "<tr><th style='border:1px solid black;color:black;background-color:#BBBBBB'><center>0</center></th><td style='color:black;background-color:#f88564;text-align:right;'>0.0500</td><td style='color:black;background-color:#85f864;text-align:right;'>0.9500</td></tr>\n",
       "<tr><th style='border:1px solid black;color:black;background-color:#BBBBBB'><center>1</center></th><td style='color:black;background-color:#f28b64;text-align:right;'>0.1000</td><td style='color:black;background-color:#8bf264;text-align:right;'>0.9000</td></tr>\n",
       "</table>"
      ],
      "text/plain": [
       "(pyAgrum.Potential<double>@000001EA64F684E0) \n",
       "      ||  J                |\n",
       "A     ||0        |1        |\n",
       "------||---------|---------|\n",
       "0     || 0.0500  | 0.9500  |\n",
       "1     || 0.1000  | 0.9000  |"
      ]
     },
     "execution_count": 12,
     "metadata": {},
     "output_type": "execute_result"
    }
   ],
   "source": [
    "bn.cpt(j)[{'A': 1}]=[0.1,0.9]\n",
    "bn.cpt(j)[{'A': 0}]=[0.05,0.95]\n",
    "bn.cpt(j)"
   ]
  },
  {
   "cell_type": "code",
   "execution_count": 13,
   "id": "2da786ef-0213-425c-9c92-62592d48bab3",
   "metadata": {},
   "outputs": [
    {
     "data": {
      "text/html": [
       "<table style=\"border:1px solid black;\">\n",
       "<tr><th colspan='1'></th>\n",
       "      <th colspan='2' style='border:1px solid black;color:black;background-color:#808080;'><center>M</center>\n",
       "      </th></tr>\n",
       "<tr><th style='border:1px solid black;color:black;background-color:#808080'><center>A</center></th><th style='border:1px solid black;border-bottom-style: double;color:black;background-color:#BBBBBB'>\n",
       "      <center>0</center></th><th style='border:1px solid black;border-bottom-style: double;color:black;background-color:#BBBBBB'>\n",
       "      <center>1</center></th></tr>\n",
       "<tr><th style='border:1px solid black;color:black;background-color:#BBBBBB'><center>0</center></th><td style='color:black;background-color:#80fd64;text-align:right;'>0.9900</td><td style='color:black;background-color:#fd8064;text-align:right;'>0.0100</td></tr>\n",
       "<tr><th style='border:1px solid black;color:black;background-color:#BBBBBB'><center>1</center></th><td style='color:black;background-color:#d8a564;text-align:right;'>0.3000</td><td style='color:black;background-color:#a5d864;text-align:right;'>0.7000</td></tr>\n",
       "</table>"
      ],
      "text/plain": [
       "(pyAgrum.Potential<double>@000001EA64F686A0) \n",
       "      ||  M                |\n",
       "A     ||0        |1        |\n",
       "------||---------|---------|\n",
       "0     || 0.9900  | 0.0100  |\n",
       "1     || 0.3000  | 0.7000  |"
      ]
     },
     "execution_count": 13,
     "metadata": {},
     "output_type": "execute_result"
    }
   ],
   "source": [
    "bn.cpt(m)[{'A': 1}]=[0.3,0.7]\n",
    "bn.cpt(m)[{'A': 0}]=[0.99,0.01]\n",
    "bn.cpt(m)"
   ]
  },
  {
   "cell_type": "code",
   "execution_count": 14,
   "id": "f4b14a85-0732-4613-aea4-faaa2c1f0111",
   "metadata": {},
   "outputs": [
    {
     "data": {
      "text/html": [
       "<table style=\"border:1px solid black;\">\n",
       "<tr><th colspan='2'></th>\n",
       "      <th colspan='2' style='border:1px solid black;color:black;background-color:#808080;'><center>A</center>\n",
       "      </th></tr>\n",
       "<tr><th style='border:1px solid black;color:black;background-color:#808080'><center>E</center></th><th style='border:1px solid black;color:black;background-color:#808080'><center>B</center></th><th style='border:1px solid black;border-bottom-style: double;color:black;background-color:#BBBBBB'>\n",
       "      <center>0</center></th><th style='border:1px solid black;border-bottom-style: double;color:black;background-color:#BBBBBB'>\n",
       "      <center>1</center></th></tr>\n",
       "<tr><th style='border:1px solid black;color:black;background-color:#BBBBBB;' rowspan = '2'>\n",
       "            <center>0</center></th><th style='border:1px solid black;color:black;background-color:#BBBBBB'><center>0</center></th><td style='color:black;background-color:#7ffe64;text-align:right;'>0.9990</td><td style='color:black;background-color:#fe7f64;text-align:right;'>0.0010</td></tr>\n",
       "<tr><th style='border:1px solid black;color:black;background-color:#BBBBBB'><center>1</center></th><td style='color:black;background-color:#f78664;text-align:right;'>0.0600</td><td style='color:black;background-color:#86f764;text-align:right;'>0.9400</td></tr>\n",
       "<tr><th style='border:1px solid black;color:black;background-color:#BBBBBB;' rowspan = '2'>\n",
       "            <center>1</center></th><th style='border:1px solid black;color:black;background-color:#BBBBBB'><center>0</center></th><td style='color:black;background-color:#a4d964;text-align:right;'>0.7100</td><td style='color:black;background-color:#d9a464;text-align:right;'>0.2900</td></tr>\n",
       "<tr><th style='border:1px solid black;color:black;background-color:#BBBBBB'><center>1</center></th><td style='color:black;background-color:#f88564;text-align:right;'>0.0500</td><td style='color:black;background-color:#85f864;text-align:right;'>0.9500</td></tr>\n",
       "</table>"
      ],
      "text/plain": [
       "(pyAgrum.Potential<double>@000001EA64F68980) \n",
       "             ||  A                |\n",
       "B     |E     ||0        |1        |\n",
       "------|------||---------|---------|\n",
       "0     |0     || 0.9990  | 0.0010  |\n",
       "1     |0     || 0.0600  | 0.9400  |\n",
       "0     |1     || 0.7100  | 0.2900  |\n",
       "1     |1     || 0.0500  | 0.9500  |"
      ]
     },
     "execution_count": 14,
     "metadata": {},
     "output_type": "execute_result"
    }
   ],
   "source": [
    "bn.cpt(a)[{'B':1,'E':1}]=[0.05,0.95]\n",
    "bn.cpt(a)[{'B':1,'E':0}]=[0.06,0.94]\n",
    "bn.cpt(a)[{'B':0,'E':1}]=[0.71,0.29]\n",
    "bn.cpt(a)[{'B':0,'E':0}]=[0.999,0.001]\n",
    "bn.cpt(a)"
   ]
  },
  {
   "cell_type": "code",
   "execution_count": 15,
   "id": "4c50f568-a3d8-4b11-888e-d98238c6cd8f",
   "metadata": {},
   "outputs": [],
   "source": [
    "ie=gum.LazyPropagation(bn)"
   ]
  },
  {
   "cell_type": "markdown",
   "id": "dfffaf8d-725a-4d57-8998-c27b4accb91a",
   "metadata": {},
   "source": [
    "### P(M)"
   ]
  },
  {
   "cell_type": "code",
   "execution_count": 16,
   "id": "f40e40f2-3891-4c4f-bd54-add02aa24340",
   "metadata": {},
   "outputs": [
    {
     "name": "stdout",
     "output_type": "stream",
     "text": [
      "\n",
      "  M                |\n",
      "0        |1        |\n",
      "---------|---------|\n",
      " 0.9883  | 0.0117  |\n",
      "\n"
     ]
    }
   ],
   "source": [
    "ie.makeInference()\n",
    "print(ie.posterior(m))"
   ]
  },
  {
   "cell_type": "markdown",
   "id": "47206fc5-e668-4a73-92ad-07e8568ea899",
   "metadata": {},
   "source": [
    "### P(M|+b,+a)"
   ]
  },
  {
   "cell_type": "markdown",
   "id": "dd5f33c1-4b47-4809-812d-f96b7f18ef73",
   "metadata": {},
   "source": [
    "#### Variables...\n",
    "* H = E,J\n",
    "* Q = B,A\n",
    "* E = M"
   ]
  },
  {
   "cell_type": "code",
   "execution_count": 18,
   "id": "12ef5b7a-fdd5-4241-aaef-85bd259d84be",
   "metadata": {},
   "outputs": [
    {
     "data": {
      "text/html": [
       "<table style=\"border:1px solid black;\">\n",
       "<tr style='border:1px solid black;color:black;background-color:#808080'>\n",
       "      <th colspan='2'><center>M</center></th></tr>\n",
       "<tr><th style='border:1px solid black;border-bottom-style: double;color:black;background-color:#BBBBBB'>\n",
       "      <center>0</center></th><th style='border:1px solid black;border-bottom-style: double;color:black;background-color:#BBBBBB'>\n",
       "      <center>1</center></th></tr>\n",
       "<tr><td style='color:black;background-color:#d8a564;text-align:right;'>0.3000</td><td style='color:black;background-color:#a5d864;text-align:right;'>0.7000</td></tr>\n",
       "</table>"
      ],
      "text/plain": [
       "(pyAgrum.Potential<double>@000001EA64F69560) \n",
       "  M                |\n",
       "0        |1        |\n",
       "---------|---------|\n",
       " 0.3000  | 0.7000  |"
      ]
     },
     "execution_count": 18,
     "metadata": {},
     "output_type": "execute_result"
    }
   ],
   "source": [
    "ie.setEvidence({'B':1,'A':1})\n",
    "ie.makeInference()\n",
    "ie.posterior(m)"
   ]
  },
  {
   "cell_type": "markdown",
   "id": "4d96fb46-6dab-4d70-b0bb-22225019ce10",
   "metadata": {},
   "source": [
    "### P(+b,-e,+a,-j,+m)"
   ]
  },
  {
   "cell_type": "markdown",
   "id": "88a72e7a-d589-46de-b716-4284de621bfe",
   "metadata": {},
   "source": [
    "#### Variables...\n",
    "* H =\n",
    "* Q =\n",
    "* E = B,A,J,M,E"
   ]
  },
  {
   "cell_type": "code",
   "execution_count": 21,
   "id": "9ab37b8f-fbe2-4c2e-b639-8930a63d361c",
   "metadata": {},
   "outputs": [
    {
     "name": "stdout",
     "output_type": "stream",
     "text": [
      "6.56684e-05\n"
     ]
    }
   ],
   "source": [
    "ie.makeInference()\n",
    "#p(+b)\n",
    "plusB=bn.cpt(b)[1]\n",
    "#p(-e)\n",
    "minusB=bn.cpt(e)[0]\n",
    "#p(+a|+b,-e)\n",
    "ie.eraseAllEvidence()\n",
    "ie.setEvidence({'B':1,'E':0})\n",
    "ie.makeInference()\n",
    "plusAevidence=ie.posterior(a)[1]\n",
    "#p(-j|+a)\n",
    "ie.eraseAllEvidence()\n",
    "ie.setEvidence({'A':1})\n",
    "ie.makeInference()\n",
    "minusJevidence=ie.posterior(j)[0]\n",
    "#p(+m|+a)\n",
    "ie.eraseAllEvidence()\n",
    "ie.setEvidence({'A':1})\n",
    "ie.makeInference()\n",
    "plusMevidence=ie.posterior(m)[1]\n",
    "\n",
    "chainRule = plusB * minusB *plusAevidence * minusJevidence * plusMevidence\n",
    "print(chainRule)"
   ]
  }
 ],
 "metadata": {
  "kernelspec": {
   "display_name": "Python 3 (ipykernel)",
   "language": "python",
   "name": "python3"
  },
  "language_info": {
   "codemirror_mode": {
    "name": "ipython",
    "version": 3
   },
   "file_extension": ".py",
   "mimetype": "text/x-python",
   "name": "python",
   "nbconvert_exporter": "python",
   "pygments_lexer": "ipython3",
   "version": "3.12.2"
  }
 },
 "nbformat": 4,
 "nbformat_minor": 5
}
